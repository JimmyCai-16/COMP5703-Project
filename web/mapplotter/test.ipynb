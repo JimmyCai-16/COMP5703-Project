{
 "cells": [
  {
   "cell_type": "code",
   "execution_count": 7,
   "metadata": {},
   "outputs": [],
   "source": [
    "import pandas as pd\n",
    "from apps.preprocessor import Preprocessor\n",
    "from map_plotter import Map_plotter\n",
    "import leafmap.foliumap as leafmap"
   ]
  },
  {
   "cell_type": "code",
   "execution_count": 9,
   "metadata": {},
   "outputs": [],
   "source": [
    "m = leafmap.Map(locate_control= True, plugin_LatLngPopup=False)"
   ]
  },
  {
   "cell_type": "code",
   "execution_count": 2,
   "metadata": {},
   "outputs": [],
   "source": [
    "prepro=Preprocessor()\n",
    "df = prepro.preprocessing(\"/Users/max/Documents/GitHub/project_orefox/web/mapplotter/soils.csv\")"
   ]
  },
  {
   "cell_type": "code",
   "execution_count": 21,
   "metadata": {},
   "outputs": [
    {
     "ename": "ValueError",
     "evalue": "The truth value of a Series is ambiguous. Use a.empty, a.bool(), a.item(), a.any() or a.all().",
     "output_type": "error",
     "traceback": [
      "\u001b[0;31m---------------------------------------------------------------------------\u001b[0m",
      "\u001b[0;31mValueError\u001b[0m                                Traceback (most recent call last)",
      "\u001b[1;32m/Users/max/Documents/GitHub/project_orefox/web/mapplotter/test.ipynb Cell 4'\u001b[0m in \u001b[0;36m<module>\u001b[0;34m\u001b[0m\n\u001b[0;32m----> <a href='vscode-notebook-cell:/Users/max/Documents/GitHub/project_orefox/web/mapplotter/test.ipynb#ch0000010?line=0'>1</a>\u001b[0m m\u001b[39m.\u001b[39;49madd_points_from_xy(df,x\u001b[39m=\u001b[39;49m df[\u001b[39m\"\u001b[39;49m\u001b[39mLatitude\u001b[39;49m\u001b[39m\"\u001b[39;49m], y \u001b[39m=\u001b[39;49m df[\u001b[39m\"\u001b[39;49m\u001b[39mLongitude\u001b[39;49m\u001b[39m\"\u001b[39;49m], popups \u001b[39m=\u001b[39;49m df\u001b[39m.\u001b[39;49mcolumns\u001b[39m.\u001b[39;49mtolist())\n\u001b[1;32m      <a href='vscode-notebook-cell:/Users/max/Documents/GitHub/project_orefox/web/mapplotter/test.ipynb#ch0000010?line=1'>2</a>\u001b[0m m\n",
      "File \u001b[0;32m/opt/anaconda3/envs/orefox/lib/python3.9/site-packages/leafmap/foliumap.py:1607\u001b[0m, in \u001b[0;36mMap.add_points_from_xy\u001b[0;34m(self, data, x, y, popup, min_width, max_width, layer_name, **kwargs)\u001b[0m\n\u001b[1;32m   <a href='file:///opt/anaconda3/envs/orefox/lib/python3.9/site-packages/leafmap/foliumap.py?line=1603'>1604</a>\u001b[0m \u001b[39mif\u001b[39;00m popup \u001b[39mis\u001b[39;00m \u001b[39mNone\u001b[39;00m:\n\u001b[1;32m   <a href='file:///opt/anaconda3/envs/orefox/lib/python3.9/site-packages/leafmap/foliumap.py?line=1604'>1605</a>\u001b[0m     popup \u001b[39m=\u001b[39m col_names\n\u001b[0;32m-> <a href='file:///opt/anaconda3/envs/orefox/lib/python3.9/site-packages/leafmap/foliumap.py?line=1606'>1607</a>\u001b[0m \u001b[39mif\u001b[39;00m x \u001b[39mnot\u001b[39;49;00m \u001b[39min\u001b[39;49;00m col_names:\n\u001b[1;32m   <a href='file:///opt/anaconda3/envs/orefox/lib/python3.9/site-packages/leafmap/foliumap.py?line=1607'>1608</a>\u001b[0m     \u001b[39mraise\u001b[39;00m \u001b[39mValueError\u001b[39;00m(\u001b[39mf\u001b[39m\u001b[39m\"\u001b[39m\u001b[39mx must be one of the following: \u001b[39m\u001b[39m{\u001b[39;00m\u001b[39m'\u001b[39m\u001b[39m, \u001b[39m\u001b[39m'\u001b[39m\u001b[39m.\u001b[39mjoin(col_names)\u001b[39m}\u001b[39;00m\u001b[39m\"\u001b[39m)\n\u001b[1;32m   <a href='file:///opt/anaconda3/envs/orefox/lib/python3.9/site-packages/leafmap/foliumap.py?line=1609'>1610</a>\u001b[0m \u001b[39mif\u001b[39;00m y \u001b[39mnot\u001b[39;00m \u001b[39min\u001b[39;00m col_names:\n",
      "File \u001b[0;32m/opt/anaconda3/envs/orefox/lib/python3.9/site-packages/pandas/core/generic.py:1537\u001b[0m, in \u001b[0;36mNDFrame.__nonzero__\u001b[0;34m(self)\u001b[0m\n\u001b[1;32m   <a href='file:///opt/anaconda3/envs/orefox/lib/python3.9/site-packages/pandas/core/generic.py?line=1534'>1535</a>\u001b[0m \u001b[39m@final\u001b[39m\n\u001b[1;32m   <a href='file:///opt/anaconda3/envs/orefox/lib/python3.9/site-packages/pandas/core/generic.py?line=1535'>1536</a>\u001b[0m \u001b[39mdef\u001b[39;00m \u001b[39m__nonzero__\u001b[39m(\u001b[39mself\u001b[39m):\n\u001b[0;32m-> <a href='file:///opt/anaconda3/envs/orefox/lib/python3.9/site-packages/pandas/core/generic.py?line=1536'>1537</a>\u001b[0m     \u001b[39mraise\u001b[39;00m \u001b[39mValueError\u001b[39;00m(\n\u001b[1;32m   <a href='file:///opt/anaconda3/envs/orefox/lib/python3.9/site-packages/pandas/core/generic.py?line=1537'>1538</a>\u001b[0m         \u001b[39mf\u001b[39m\u001b[39m\"\u001b[39m\u001b[39mThe truth value of a \u001b[39m\u001b[39m{\u001b[39;00m\u001b[39mtype\u001b[39m(\u001b[39mself\u001b[39m)\u001b[39m.\u001b[39m\u001b[39m__name__\u001b[39m\u001b[39m}\u001b[39;00m\u001b[39m is ambiguous. \u001b[39m\u001b[39m\"\u001b[39m\n\u001b[1;32m   <a href='file:///opt/anaconda3/envs/orefox/lib/python3.9/site-packages/pandas/core/generic.py?line=1538'>1539</a>\u001b[0m         \u001b[39m\"\u001b[39m\u001b[39mUse a.empty, a.bool(), a.item(), a.any() or a.all().\u001b[39m\u001b[39m\"\u001b[39m\n\u001b[1;32m   <a href='file:///opt/anaconda3/envs/orefox/lib/python3.9/site-packages/pandas/core/generic.py?line=1539'>1540</a>\u001b[0m     )\n",
      "\u001b[0;31mValueError\u001b[0m: The truth value of a Series is ambiguous. Use a.empty, a.bool(), a.item(), a.any() or a.all()."
     ]
    }
   ],
   "source": [
    "m.add_points_from_xy(df,x= df[\"Latitude\"], y = df[\"Longitude\"], popups = df.columns.tolist())\n",
    "m"
   ]
  },
  {
   "cell_type": "code",
   "execution_count": 4,
   "metadata": {},
   "outputs": [],
   "source": [
    "a = Map_plotter(df)"
   ]
  },
  {
   "cell_type": "code",
   "execution_count": 5,
   "metadata": {},
   "outputs": [
    {
     "ename": "ValueError",
     "evalue": "The truth value of a Series is ambiguous. Use a.empty, a.bool(), a.item(), a.any() or a.all().",
     "output_type": "error",
     "traceback": [
      "\u001b[0;31m---------------------------------------------------------------------------\u001b[0m",
      "\u001b[0;31mValueError\u001b[0m                                Traceback (most recent call last)",
      "\u001b[1;32m/Users/max/Documents/GitHub/project_orefox/web/mapplotter/test.ipynb Cell 5'\u001b[0m in \u001b[0;36m<module>\u001b[0;34m\u001b[0m\n\u001b[0;32m----> <a href='vscode-notebook-cell:/Users/max/Documents/GitHub/project_orefox/web/mapplotter/test.ipynb#ch0000004?line=0'>1</a>\u001b[0m a\u001b[39m.\u001b[39;49mload_map()\n",
      "File \u001b[0;32m~/Documents/GitHub/project_orefox/web/mapplotter/map_plotter.py:24\u001b[0m, in \u001b[0;36mMap_plotter.load_map\u001b[0;34m(self)\u001b[0m\n\u001b[1;32m     <a href='file:///~/Documents/GitHub/project_orefox/web/mapplotter/map_plotter.py?line=21'>22</a>\u001b[0m m\u001b[39m.\u001b[39madd_basemap(\u001b[39m\"\u001b[39m\u001b[39mHYBRID\u001b[39m\u001b[39m\"\u001b[39m)\n\u001b[1;32m     <a href='file:///~/Documents/GitHub/project_orefox/web/mapplotter/map_plotter.py?line=22'>23</a>\u001b[0m m\u001b[39m.\u001b[39madd_basemap(\u001b[39m\"\u001b[39m\u001b[39mEsri.NatGeoWorldMap\u001b[39m\u001b[39m\"\u001b[39m)\n\u001b[0;32m---> <a href='file:///~/Documents/GitHub/project_orefox/web/mapplotter/map_plotter.py?line=23'>24</a>\u001b[0m m\u001b[39m.\u001b[39;49madd_points_from_xy(\u001b[39mself\u001b[39;49m\u001b[39m.\u001b[39;49mdf,x, y)\n\u001b[1;32m     <a href='file:///~/Documents/GitHub/project_orefox/web/mapplotter/map_plotter.py?line=24'>25</a>\u001b[0m \u001b[39mreturn\u001b[39;00m m\n",
      "File \u001b[0;32m/opt/anaconda3/envs/orefox/lib/python3.9/site-packages/leafmap/foliumap.py:1607\u001b[0m, in \u001b[0;36mMap.add_points_from_xy\u001b[0;34m(self, data, x, y, popup, min_width, max_width, layer_name, **kwargs)\u001b[0m\n\u001b[1;32m   <a href='file:///opt/anaconda3/envs/orefox/lib/python3.9/site-packages/leafmap/foliumap.py?line=1603'>1604</a>\u001b[0m \u001b[39mif\u001b[39;00m popup \u001b[39mis\u001b[39;00m \u001b[39mNone\u001b[39;00m:\n\u001b[1;32m   <a href='file:///opt/anaconda3/envs/orefox/lib/python3.9/site-packages/leafmap/foliumap.py?line=1604'>1605</a>\u001b[0m     popup \u001b[39m=\u001b[39m col_names\n\u001b[0;32m-> <a href='file:///opt/anaconda3/envs/orefox/lib/python3.9/site-packages/leafmap/foliumap.py?line=1606'>1607</a>\u001b[0m \u001b[39mif\u001b[39;00m x \u001b[39mnot\u001b[39;49;00m \u001b[39min\u001b[39;49;00m col_names:\n\u001b[1;32m   <a href='file:///opt/anaconda3/envs/orefox/lib/python3.9/site-packages/leafmap/foliumap.py?line=1607'>1608</a>\u001b[0m     \u001b[39mraise\u001b[39;00m \u001b[39mValueError\u001b[39;00m(\u001b[39mf\u001b[39m\u001b[39m\"\u001b[39m\u001b[39mx must be one of the following: \u001b[39m\u001b[39m{\u001b[39;00m\u001b[39m'\u001b[39m\u001b[39m, \u001b[39m\u001b[39m'\u001b[39m\u001b[39m.\u001b[39mjoin(col_names)\u001b[39m}\u001b[39;00m\u001b[39m\"\u001b[39m)\n\u001b[1;32m   <a href='file:///opt/anaconda3/envs/orefox/lib/python3.9/site-packages/leafmap/foliumap.py?line=1609'>1610</a>\u001b[0m \u001b[39mif\u001b[39;00m y \u001b[39mnot\u001b[39;00m \u001b[39min\u001b[39;00m col_names:\n",
      "File \u001b[0;32m/opt/anaconda3/envs/orefox/lib/python3.9/site-packages/pandas/core/generic.py:1537\u001b[0m, in \u001b[0;36mNDFrame.__nonzero__\u001b[0;34m(self)\u001b[0m\n\u001b[1;32m   <a href='file:///opt/anaconda3/envs/orefox/lib/python3.9/site-packages/pandas/core/generic.py?line=1534'>1535</a>\u001b[0m \u001b[39m@final\u001b[39m\n\u001b[1;32m   <a href='file:///opt/anaconda3/envs/orefox/lib/python3.9/site-packages/pandas/core/generic.py?line=1535'>1536</a>\u001b[0m \u001b[39mdef\u001b[39;00m \u001b[39m__nonzero__\u001b[39m(\u001b[39mself\u001b[39m):\n\u001b[0;32m-> <a href='file:///opt/anaconda3/envs/orefox/lib/python3.9/site-packages/pandas/core/generic.py?line=1536'>1537</a>\u001b[0m     \u001b[39mraise\u001b[39;00m \u001b[39mValueError\u001b[39;00m(\n\u001b[1;32m   <a href='file:///opt/anaconda3/envs/orefox/lib/python3.9/site-packages/pandas/core/generic.py?line=1537'>1538</a>\u001b[0m         \u001b[39mf\u001b[39m\u001b[39m\"\u001b[39m\u001b[39mThe truth value of a \u001b[39m\u001b[39m{\u001b[39;00m\u001b[39mtype\u001b[39m(\u001b[39mself\u001b[39m)\u001b[39m.\u001b[39m\u001b[39m__name__\u001b[39m\u001b[39m}\u001b[39;00m\u001b[39m is ambiguous. \u001b[39m\u001b[39m\"\u001b[39m\n\u001b[1;32m   <a href='file:///opt/anaconda3/envs/orefox/lib/python3.9/site-packages/pandas/core/generic.py?line=1538'>1539</a>\u001b[0m         \u001b[39m\"\u001b[39m\u001b[39mUse a.empty, a.bool(), a.item(), a.any() or a.all().\u001b[39m\u001b[39m\"\u001b[39m\n\u001b[1;32m   <a href='file:///opt/anaconda3/envs/orefox/lib/python3.9/site-packages/pandas/core/generic.py?line=1539'>1540</a>\u001b[0m     )\n",
      "\u001b[0;31mValueError\u001b[0m: The truth value of a Series is ambiguous. Use a.empty, a.bool(), a.item(), a.any() or a.all()."
     ]
    }
   ],
   "source": [
    "a.load_map()"
   ]
  },
  {
   "cell_type": "code",
   "execution_count": null,
   "metadata": {},
   "outputs": [],
   "source": []
  }
 ],
 "metadata": {
  "interpreter": {
   "hash": "66ec31af22af65246be3fe6e3c3ae9644171310573a943a0a91184552cae6979"
  },
  "kernelspec": {
   "display_name": "Python 3.9.7 ('orefox')",
   "language": "python",
   "name": "python3"
  },
  "language_info": {
   "codemirror_mode": {
    "name": "ipython",
    "version": 3
   },
   "file_extension": ".py",
   "mimetype": "text/x-python",
   "name": "python",
   "nbconvert_exporter": "python",
   "pygments_lexer": "ipython3",
   "version": "3.9.7"
  },
  "orig_nbformat": 4
 },
 "nbformat": 4,
 "nbformat_minor": 2
}
